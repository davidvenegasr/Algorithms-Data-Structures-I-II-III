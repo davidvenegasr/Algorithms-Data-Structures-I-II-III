{
 "cells": [
  {
   "cell_type": "markdown",
   "metadata": {},
   "source": [
    "# Instancias del Experimento \n",
    "A continuación se generan las intancias a ser empleadas para comparar el rendimiento de los Algoritmos de Fuerza Bruta, Batracking y Programación Dinámica.\n",
    "- Dichas instancias seran guardadas en la carpeta instancias, cada una en su respectiva carpeta según su categoría. "
   ]
  },
  {
   "cell_type": "code",
   "execution_count": 1,
   "metadata": {},
   "outputs": [],
   "source": [
    "import random, math\n",
    "import pandas as pd"
   ]
  },
  {
   "cell_type": "code",
   "execution_count": 2,
   "metadata": {},
   "outputs": [],
   "source": [
    "def save_instance(dataset, instance_name, S, R, r):\n",
    "    with open((F\"instancias/{dataset}/{instance_name}.txt\"), \"w\") as f:\n",
    "        print(len(S), R, file=f)\n",
    "        for s, ri in zip(S,r): \n",
    "            print(s, file=f, end=\" \")\n",
    "            print(ri, file=f, end=\"\\n\")\n",
    "\n",
    "def save_index(dataset, instances):\n",
    "    with open((F\"instancias/{dataset}/instances.txt\"), \"w\") as f:\n",
    "        for instance in instances: \n",
    "            print(instance, file=f)"
   ]
  },
  {
   "cell_type": "markdown",
   "metadata": {},
   "source": [
    "## Dataset 1\n",
    "Instancias del mejor caso de backtracking (mejor explicado en el informe).\n",
    "```\n",
    "W = {R+1, ..., R+1, a} con R > a, es decir solo hay un único elemento que es solución.\n",
    "```"
   ]
  },
  {
   "cell_type": "code",
   "execution_count": 3,
   "metadata": {},
   "outputs": [],
   "source": [
    "filas_indice = []\n",
    "for i in range(1, 1001):\n",
    "    n = i * 10\n",
    "    R = 1000\n",
    "    W = [R+1 for i in range(1, n)]\n",
    "    r = [R for i in range(0, n)]\n",
    "    W[-1] = R-1\n",
    "    save_instance(\"mejor-caso-BT\", F\"BT-MC-{n}\", W, R, r)\n",
    "    filas_indice.append([\"mejor-caso-BT\", F\"BT-MC-{n}\", n, R, F\"instancias/mejor-caso-BT/BT-MC-{n}.txt\"])\n",
    "pd.DataFrame(filas_indice, columns=[\"dataset\", \"instancia\", \"n\", \"R\", \"archivo\"]).to_csv(\"instancias/mejor-caso-BT/indice.csv\", index=False, header=True)"
   ]
  },
  {
   "cell_type": "markdown",
   "metadata": {},
   "source": [
    "## Dataset 2\n",
    "Instancias de un mal caso de backtracking para ambas podas (mejor explicado en el informe).\n",
    "```\n",
    "Para un n par \n",
    "W = {a, ..., a, R+1, ..., R+1 } con R/a > n/2, es decir la solucion tiene los primeros n/2 elementos.\n",
    "r = {R/2+1, ..., R/2+1, R/2+1}\n",
    "```"
   ]
  },
  {
   "cell_type": "code",
   "execution_count": 4,
   "metadata": {},
   "outputs": [],
   "source": [
    "filas_indice = []\n",
    "for n in range(1, 31):\n",
    "    R = n\n",
    "    if n % 2 ==0:\n",
    "        W = [1 for i in range(1, n//2)]+[R+1 for i in range(1, n//2)]\n",
    "    else:\n",
    "        W = [1 for i in range(1, n//2+1)]+[R+1 for i in range(1, n//2+1)]\n",
    "    r = [R//2+1 for i in range(0, n)]\n",
    "    save_instance(\"mal-caso-BT\", F\"BT-PC-{n}\", W, R,r)\n",
    "    filas_indice.append([\"mal-caso-BT\", F\"BT-PC-{n}\", n, R, F\"instancias/mal-caso-BT/BT-PC-{n}.txt\"])\n",
    "pd.DataFrame(filas_indice, columns=[\"dataset\", \"instancia\", \"n\", \"R\", \"archivo\"]).to_csv(\"instancias/mal-caso-BT/indice.csv\", index=False, header=True)"
   ]
  },
  {
   "cell_type": "markdown",
   "metadata": {},
   "source": [
    "## Dataset 3\n",
    "Instancias del peor caso de backtracking para podas por optimalidad (es decir sin tomar en cuenta la poda por factibilidad).\n",
    "```\n",
    "W = {R+1, ..., R+1, R+1} con R > a, es decir no hay solución.\n",
    "```"
   ]
  },
  {
   "cell_type": "code",
   "execution_count": 5,
   "metadata": {},
   "outputs": [],
   "source": [
    "filas_indice = []\n",
    "for i in range(1, 31):\n",
    "    R = 50\n",
    "    W = [R+1 for i in range(1, i)]\n",
    "    r = [R for i in range(1, i)]\n",
    "    save_instance(\"peor-caso-BT-O\", F\"BT-PC-O-{i}\", W, R, r)\n",
    "    filas_indice.append([\"peor-caso-BT-O\", F\"BT-PO-O-{i}\", i, R, F\"instancias/peor-caso-BT-O/BT-MC-{i}.txt\"])\n",
    "pd.DataFrame(filas_indice, columns=[\"dataset\", \"instancia\", \"n\", \"R\", \"archivo\"]).to_csv(\"instancias/peor-caso-BT-O/indice.csv\", index=False, header=True)"
   ]
  },
  {
   "cell_type": "markdown",
   "metadata": {},
   "source": [
    "## Dataset 4\n",
    "Instancias del peor caso de backtracking para podas por factibilidad (es decir sin tomar en cuenta la poda por optimalidad).\n",
    "```\n",
    "W = {a, ..., a, a} con R/a > |W|, es decir al seleccion de todos los elementos es solución.\n",
    "```"
   ]
  },
  {
   "cell_type": "code",
   "execution_count": 6,
   "metadata": {},
   "outputs": [],
   "source": [
    "filas_indice = []\n",
    "for i in range(1, 31):\n",
    "    R = 50\n",
    "    W = [1 for i in range(1, i)]\n",
    "    r = [R for i in range(1, i)]\n",
    "    save_instance(\"peor-caso-BT-F\", F\"BT-PC-F-{i}\", W, R, r)\n",
    "    filas_indice.append([\"peor-caso-BT-F\", F\"BT-PO-F-{i}\", i, R, F\"instancias/peor-caso-BT-F/BT-MC-{i}.txt\"])\n",
    "pd.DataFrame(filas_indice, columns=[\"dataset\", \"instancia\", \"n\", \"R\", \"archivo\"]).to_csv(\"instancias/peor-caso-BT-F/indice.csv\", index=False, header=True)"
   ]
  },
  {
   "cell_type": "code",
   "execution_count": 7,
   "metadata": {},
   "outputs": [],
   "source": [
    "random.seed()"
   ]
  },
  {
   "cell_type": "markdown",
   "metadata": {},
   "source": [
    "## Dataset 5\n",
    "Instancias variando n y W con numeros aleatorios para DP.\n",
    "```\n",
    "W = {a, ..., a, a} con a natular, es decir, un numero aleatorio.\n",
    "```"
   ]
  },
  {
   "cell_type": "code",
   "execution_count": 8,
   "metadata": {},
   "outputs": [],
   "source": [
    "filas_indice = []\n",
    "for n in range(1000, 8000, 500):\n",
    "    for R in range(1000, 8000, 500):\n",
    "        W = [random.randint(1,n)%2 for i in range(1, n)]\n",
    "        r = [R for i in range(0, n)]\n",
    "        save_instance(\"dinamica\", F\"DP-{n}-{R}\", W, R, r)\n",
    "        filas_indice.append([\"dinamica\", F\"DP-{n}-{R}\", n, R, F\"instancias/dinamica/DP-{n}-{R}.txt\"])\n",
    "pd.DataFrame(filas_indice, columns=[\"dataset\", \"instancia\", \"n\", \"R\", \"archivo\"]).to_csv(\"instancias/dinamica/indice.csv\", index=False, header=True)"
   ]
  },
  {
   "cell_type": "markdown",
   "metadata": {},
   "source": [
    "## Dataset 6\n",
    "Instancias con densidad alta tal que:\n",
    "```\n",
    "W = { 1, ..., n } con R = n\n",
    "r = { 1, ..., n/2} \n",
    "```"
   ]
  },
  {
   "cell_type": "code",
   "execution_count": 11,
   "metadata": {},
   "outputs": [],
   "source": [
    "filas_indice = []\n",
    "for n in range(1, 101):\n",
    "    R = n\n",
    "    W = [i for i in range(1, n+1)]\n",
    "    if n % 2 == 0:\n",
    "        r = [i for i in range(1, n//2+1)]*2\n",
    "    else:\n",
    "        r = [i for i in range(1, n//2+1)]*2+[n//2+1]\n",
    "    random.shuffle(W)\n",
    "    random.shuffle(r)\n",
    "    save_instance(\"densidad-alta\", F\"ALTA-{n}\", W, R, r)\n",
    "    filas_indice.append([\"densidad-alta\", F\"ALTA-{n}\", n, R, F\"instancias/densidad-alta/ALTA-{n}.txt\"])\n",
    "pd.DataFrame(filas_indice, columns=[\"dataset\", \"instancia\", \"n\", \"R\", \"archivo\"]).to_csv(\"instancias/densidad-alta/indice.csv\", index=False, header=True)"
   ]
  },
  {
   "cell_type": "markdown",
   "metadata": {},
   "source": [
    "## Dataset 7\n",
    "Instancias con densidad baja tal que:\n",
    "```\n",
    "W = { 1, ..., n/2} con R = n\n",
    "r = { 1, ..., n} \n",
    "```"
   ]
  },
  {
   "cell_type": "code",
   "execution_count": 12,
   "metadata": {},
   "outputs": [],
   "source": [
    "filas_indice = []\n",
    "for n in range(1, 101):\n",
    "    R = n\n",
    "    W = [i for i in range(1, n+1)]\n",
    "    if n % 2 == 0:\n",
    "        W = [i for i in range(1, n//2+1)]*2\n",
    "    else:\n",
    "        W = [i for i in range(1, n//2+1)]*2 + [1]\n",
    "    r = [i for i in range(1, n+1)]\n",
    "    random.shuffle(W)\n",
    "    random.shuffle(r)\n",
    "    save_instance(\"densidad-baja\", F\"BAJA-{n}\", W, R, r)\n",
    "    filas_indice.append([\"densidad-baja\", F\"BAJA-{n}\", n, R, F\"instancias/densidad-baja/BAJA-{n}.txt\"])\n",
    "pd.DataFrame(filas_indice, columns=[\"dataset\", \"instancia\", \"n\", \"R\", \"archivo\"]).to_csv(\"instancias/densidad-baja/indice.csv\", index=False, header=True)"
   ]
  },
  {
   "cell_type": "code",
   "execution_count": null,
   "metadata": {},
   "outputs": [],
   "source": []
  }
 ],
 "metadata": {
  "kernelspec": {
   "display_name": "Python 3",
   "language": "python",
   "name": "python3"
  },
  "language_info": {
   "codemirror_mode": {
    "name": "ipython",
    "version": 3
   },
   "file_extension": ".py",
   "mimetype": "text/x-python",
   "name": "python",
   "nbconvert_exporter": "python",
   "pygments_lexer": "ipython3",
   "version": "3.6.9"
  }
 },
 "nbformat": 4,
 "nbformat_minor": 4
}
