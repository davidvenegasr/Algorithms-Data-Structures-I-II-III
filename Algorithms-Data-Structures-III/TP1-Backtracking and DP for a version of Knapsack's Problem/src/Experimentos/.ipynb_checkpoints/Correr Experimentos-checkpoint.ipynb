{
 "cells": [
  {
   "cell_type": "markdown",
   "metadata": {},
   "source": [
    "# Experimentación\n",
    "En el presente cuaderno de Jupiter se corren los experimentos planteados y se escriben los resultados en archivos .CSV en la carpeta de resultados."
   ]
  },
  {
   "cell_type": "code",
   "execution_count": 1,
   "metadata": {},
   "outputs": [],
   "source": [
    "import math, subprocess\n",
    "import pandas as pd\n",
    "import numpy as np\n",
    "from IPython.display import display, clear_output"
   ]
  },
  {
   "cell_type": "markdown",
   "metadata": {},
   "source": [
    "Ahora, se leen los datasets con las instancias creadas:"
   ]
  },
  {
   "cell_type": "code",
   "execution_count": 2,
   "metadata": {},
   "outputs": [],
   "source": [
    "def leer_instancia(path_instancia):\n",
    "    with open(path_instancia, \"r\") as f:\n",
    "        return f.read();\n",
    "\n",
    "df_densidad_alta = pd.read_csv(\"instancias/densidad-alta/indice.csv\");\n",
    "df_densidad_baja = pd.read_csv(\"instancias/densidad-baja/indice.csv\");\n",
    "df_mejor_caso_bt = pd.read_csv(\"instancias/mejor-caso-BT/indice.csv\");\n",
    "df_mal_caso_bt = pd.read_csv(\"instancias/mal-caso-BT/indice.csv\");\n",
    "df_peor_caso_bt_o = pd.read_csv(\"instancias/peor-caso-BT-O/indice.csv\");\n",
    "df_peor_caso_bt_f = pd.read_csv(\"instancias/peor-caso-BT-F/indice.csv\");\n",
    "df_dinamica = pd.read_csv(\"instancias/dinamica/indice.csv\");"
   ]
  },
  {
   "cell_type": "markdown",
   "metadata": {},
   "source": [
    "La siguiente función sirve para correr el código de cada algotimo sobe una instancia.\n",
    "- FB: Fuerza bruta\n",
    "- BT: Backtracking con ambas podas.\n",
    "- BT-F: Backtracking únicamente usando poda por factibilidad.\n",
    "- BT-O: Backtracking únicamente usando por optimalidad.\n",
    "- DP: Programación dinámica."
   ]
  },
  {
   "cell_type": "code",
   "execution_count": 3,
   "metadata": {},
   "outputs": [],
   "source": [
    "def correr_experimento(metodo, archivo_instancia):\n",
    "    # Leer archivo de la instancia.\n",
    "    instancia = leer_instancia(archivo_instancia)\n",
    "    \n",
    "    # Crear proceso para ejecutar el codigo.\n",
    "    process = subprocess.Popen([\"../jambo-tubos\", metodo], stderr=subprocess.PIPE, stdout=subprocess.PIPE, stdin=subprocess.PIPE, universal_newlines = True)\n",
    "\n",
    "    # Poner la instancia en la entrada estandar.\n",
    "    process.stdin.write(instancia)\n",
    "    process.stdin.flush()\n",
    "\n",
    "    # Correr experimento.\n",
    "    exit_code = process.wait()\n",
    "\n",
    "    # Verificar que el proceso no fallo.\n",
    "    if exit_code is not 0: raise(F\"Hubo un error en la experimentacion para el algoritmo: {algoritmo} con la instancia {archivo_instancia}.\")\n",
    "    # Leer salida de STDERR con los tiempos de ejecucion de cada metodo.\n",
    "    tiempo_de_ejecucion = float(process.stderr.read());\n",
    "    \n",
    "    process.stdin.close();\n",
    "    process.stdout.close();\n",
    "    process.stderr.close();\n",
    "    \n",
    "    return tiempo_de_ejecucion;"
   ]
  },
  {
   "cell_type": "code",
   "execution_count": 21,
   "metadata": {},
   "outputs": [],
   "source": [
    "def experimentar(experimentos, nombre):\n",
    "    columnas = [\"dataset\", \"n\", \"R\", \"metodo\", \"tiempo\"];\n",
    "    filas = [];\n",
    "    numero = 1\n",
    "    T = 5 # Numero de veces que se ejecuta cada experimento (para mayor fidelidad del tiempo).\n",
    "    for experimento in experimentos:\n",
    "        # Voy mostrando que experimento se esta ejecutando.\n",
    "        clear_output(wait=True)\n",
    "        display('Experimento: ' + str(numero) + \"/\" + str(len(experimentos)))\n",
    "        numero += 1\n",
    "\n",
    "        # Ejecutamos el experimento T veces y obtenemos la mediana.\n",
    "        tiempos = []\n",
    "        for i in range(0, T):\n",
    "            #print(experimento[3], experimento[4])\n",
    "            tiempos.append(correr_experimento(experimento[3], experimento[4]));\n",
    "        tiempo = np.median(tiempos);\n",
    "        filas.append([experimento[0], experimento[1], experimento[2], experimento[3], tiempo]);\n",
    "    df_resultado = pd.DataFrame(filas, columns=columnas);\n",
    "    df_resultado.to_csv(F\"resultados/resultado_{nombre}.csv\", index=False, header=True);"
   ]
  },
  {
   "cell_type": "markdown",
   "metadata": {},
   "source": [
    "## Experimentos\n",
    "A continuación se crea una tabla con las ejecuciones y sus respectivos tiempos."
   ]
  },
  {
   "cell_type": "markdown",
   "metadata": {},
   "source": [
    "# Experimento 1"
   ]
  },
  {
   "cell_type": "code",
   "execution_count": null,
   "metadata": {},
   "outputs": [],
   "source": [
    "experimentos = [];\n",
    "for n in range(1, 31):\n",
    "    fila_n = df_densidad_alta.iloc[n];\n",
    "    experimentos.append([fila_n[\"dataset\"], n, fila_n[\"R\"], \"FB\", fila_n[\"archivo\"]]);\n",
    "\n",
    "for n in range(1, 31):\n",
    "    fila_n = df_densidad_baja.iloc[n];\n",
    "    experimentos.append([fila_n[\"dataset\"], n, fila_n[\"R\"], \"FB\", fila_n[\"archivo\"]]);\n",
    "    \n",
    "for n in range(1, 31):\n",
    "    fila_n = df_densidad_alta.iloc[n];\n",
    "    experimentos.append([fila_n[\"dataset\"], n, fila_n[\"R\"], \"BT\", fila_n[\"archivo\"]]);\n",
    "\n",
    "for n in range(1, 31):\n",
    "    fila_n = df_densidad_baja.iloc[n];\n",
    "    experimentos.append([fila_n[\"dataset\"], n, fila_n[\"R\"], \"BT\", fila_n[\"archivo\"]]);\n",
    "experimentar(experimentos,\"1-FBvsBT\")\n",
    "experimentos = [];  "
   ]
  },
  {
   "cell_type": "markdown",
   "metadata": {},
   "source": [
    "## Experimento 2\n",
    "Correr BT para mejor y peor caso."
   ]
  },
  {
   "cell_type": "code",
   "execution_count": 6,
   "metadata": {},
   "outputs": [],
   "source": [
    "#for n in range(0, df_mejor_caso_bt.shape[0]):\n",
    "#    fila_n = df_mejor_caso_bt.iloc[n];\n",
    "#    experimentos.append([fila_n[\"dataset\"], n, fila_n[\"R\"], \"BT\", fila_n[\"archivo\"]]);\n"
   ]
  },
  {
   "cell_type": "code",
   "execution_count": 15,
   "metadata": {},
   "outputs": [
    {
     "data": {
      "text/plain": [
       "[['densidad-alta', 1, 2, 'FB', 'instancias/densidad-alta/ALTA-2.txt'],\n",
       " ['densidad-alta', 2, 3, 'FB', 'instancias/densidad-alta/ALTA-3.txt'],\n",
       " ['densidad-alta', 3, 4, 'FB', 'instancias/densidad-alta/ALTA-4.txt'],\n",
       " ['densidad-alta', 4, 5, 'FB', 'instancias/densidad-alta/ALTA-5.txt'],\n",
       " ['densidad-alta', 5, 6, 'FB', 'instancias/densidad-alta/ALTA-6.txt'],\n",
       " ['densidad-alta', 6, 7, 'FB', 'instancias/densidad-alta/ALTA-7.txt'],\n",
       " ['densidad-alta', 7, 8, 'FB', 'instancias/densidad-alta/ALTA-8.txt'],\n",
       " ['densidad-alta', 8, 9, 'FB', 'instancias/densidad-alta/ALTA-9.txt'],\n",
       " ['densidad-alta', 9, 10, 'FB', 'instancias/densidad-alta/ALTA-10.txt'],\n",
       " ['densidad-alta', 10, 11, 'FB', 'instancias/densidad-alta/ALTA-11.txt'],\n",
       " ['densidad-alta', 11, 12, 'FB', 'instancias/densidad-alta/ALTA-12.txt'],\n",
       " ['densidad-alta', 12, 13, 'FB', 'instancias/densidad-alta/ALTA-13.txt'],\n",
       " ['densidad-alta', 13, 14, 'FB', 'instancias/densidad-alta/ALTA-14.txt'],\n",
       " ['densidad-alta', 14, 15, 'FB', 'instancias/densidad-alta/ALTA-15.txt'],\n",
       " ['densidad-alta', 15, 16, 'FB', 'instancias/densidad-alta/ALTA-16.txt'],\n",
       " ['densidad-alta', 16, 17, 'FB', 'instancias/densidad-alta/ALTA-17.txt'],\n",
       " ['densidad-alta', 17, 18, 'FB', 'instancias/densidad-alta/ALTA-18.txt'],\n",
       " ['densidad-alta', 18, 19, 'FB', 'instancias/densidad-alta/ALTA-19.txt'],\n",
       " ['densidad-alta', 19, 20, 'FB', 'instancias/densidad-alta/ALTA-20.txt'],\n",
       " ['densidad-alta', 20, 21, 'FB', 'instancias/densidad-alta/ALTA-21.txt'],\n",
       " ['densidad-alta', 21, 22, 'FB', 'instancias/densidad-alta/ALTA-22.txt'],\n",
       " ['densidad-alta', 22, 23, 'FB', 'instancias/densidad-alta/ALTA-23.txt'],\n",
       " ['densidad-alta', 23, 24, 'FB', 'instancias/densidad-alta/ALTA-24.txt'],\n",
       " ['densidad-alta', 24, 25, 'FB', 'instancias/densidad-alta/ALTA-25.txt'],\n",
       " ['densidad-alta', 25, 26, 'FB', 'instancias/densidad-alta/ALTA-26.txt'],\n",
       " ['densidad-alta', 26, 27, 'FB', 'instancias/densidad-alta/ALTA-27.txt'],\n",
       " ['densidad-alta', 27, 28, 'FB', 'instancias/densidad-alta/ALTA-28.txt'],\n",
       " ['densidad-alta', 28, 29, 'FB', 'instancias/densidad-alta/ALTA-29.txt'],\n",
       " ['densidad-alta', 29, 30, 'FB', 'instancias/densidad-alta/ALTA-30.txt'],\n",
       " ['densidad-alta', 30, 31, 'FB', 'instancias/densidad-alta/ALTA-31.txt'],\n",
       " ['densidad-baja', 1, 2, 'FB', 'instancias/densidad-baja/BAJA-2.txt'],\n",
       " ['densidad-baja', 2, 3, 'FB', 'instancias/densidad-baja/BAJA-3.txt'],\n",
       " ['densidad-baja', 3, 4, 'FB', 'instancias/densidad-baja/BAJA-4.txt'],\n",
       " ['densidad-baja', 4, 5, 'FB', 'instancias/densidad-baja/BAJA-5.txt'],\n",
       " ['densidad-baja', 5, 6, 'FB', 'instancias/densidad-baja/BAJA-6.txt'],\n",
       " ['densidad-baja', 6, 7, 'FB', 'instancias/densidad-baja/BAJA-7.txt'],\n",
       " ['densidad-baja', 7, 8, 'FB', 'instancias/densidad-baja/BAJA-8.txt'],\n",
       " ['densidad-baja', 8, 9, 'FB', 'instancias/densidad-baja/BAJA-9.txt'],\n",
       " ['densidad-baja', 9, 10, 'FB', 'instancias/densidad-baja/BAJA-10.txt'],\n",
       " ['densidad-baja', 10, 11, 'FB', 'instancias/densidad-baja/BAJA-11.txt'],\n",
       " ['densidad-baja', 11, 12, 'FB', 'instancias/densidad-baja/BAJA-12.txt'],\n",
       " ['densidad-baja', 12, 13, 'FB', 'instancias/densidad-baja/BAJA-13.txt'],\n",
       " ['densidad-baja', 13, 14, 'FB', 'instancias/densidad-baja/BAJA-14.txt'],\n",
       " ['densidad-baja', 14, 15, 'FB', 'instancias/densidad-baja/BAJA-15.txt'],\n",
       " ['densidad-baja', 15, 16, 'FB', 'instancias/densidad-baja/BAJA-16.txt'],\n",
       " ['densidad-baja', 16, 17, 'FB', 'instancias/densidad-baja/BAJA-17.txt'],\n",
       " ['densidad-baja', 17, 18, 'FB', 'instancias/densidad-baja/BAJA-18.txt'],\n",
       " ['densidad-baja', 18, 19, 'FB', 'instancias/densidad-baja/BAJA-19.txt'],\n",
       " ['densidad-baja', 19, 20, 'FB', 'instancias/densidad-baja/BAJA-20.txt'],\n",
       " ['densidad-baja', 20, 21, 'FB', 'instancias/densidad-baja/BAJA-21.txt'],\n",
       " ['densidad-baja', 21, 22, 'FB', 'instancias/densidad-baja/BAJA-22.txt'],\n",
       " ['densidad-baja', 22, 23, 'FB', 'instancias/densidad-baja/BAJA-23.txt'],\n",
       " ['densidad-baja', 23, 24, 'FB', 'instancias/densidad-baja/BAJA-24.txt'],\n",
       " ['densidad-baja', 24, 25, 'FB', 'instancias/densidad-baja/BAJA-25.txt'],\n",
       " ['densidad-baja', 25, 26, 'FB', 'instancias/densidad-baja/BAJA-26.txt'],\n",
       " ['densidad-baja', 26, 27, 'FB', 'instancias/densidad-baja/BAJA-27.txt'],\n",
       " ['densidad-baja', 27, 28, 'FB', 'instancias/densidad-baja/BAJA-28.txt'],\n",
       " ['densidad-baja', 28, 29, 'FB', 'instancias/densidad-baja/BAJA-29.txt'],\n",
       " ['densidad-baja', 29, 30, 'FB', 'instancias/densidad-baja/BAJA-30.txt'],\n",
       " ['densidad-baja', 30, 31, 'FB', 'instancias/densidad-baja/BAJA-31.txt'],\n",
       " ['densidad-alta', 1, 2, 'BT', 'instancias/densidad-alta/ALTA-2.txt'],\n",
       " ['densidad-alta', 2, 3, 'BT', 'instancias/densidad-alta/ALTA-3.txt'],\n",
       " ['densidad-alta', 3, 4, 'BT', 'instancias/densidad-alta/ALTA-4.txt'],\n",
       " ['densidad-alta', 4, 5, 'BT', 'instancias/densidad-alta/ALTA-5.txt'],\n",
       " ['densidad-alta', 5, 6, 'BT', 'instancias/densidad-alta/ALTA-6.txt'],\n",
       " ['densidad-alta', 6, 7, 'BT', 'instancias/densidad-alta/ALTA-7.txt'],\n",
       " ['densidad-alta', 7, 8, 'BT', 'instancias/densidad-alta/ALTA-8.txt'],\n",
       " ['densidad-alta', 8, 9, 'BT', 'instancias/densidad-alta/ALTA-9.txt'],\n",
       " ['densidad-alta', 9, 10, 'BT', 'instancias/densidad-alta/ALTA-10.txt'],\n",
       " ['densidad-alta', 10, 11, 'BT', 'instancias/densidad-alta/ALTA-11.txt'],\n",
       " ['densidad-alta', 11, 12, 'BT', 'instancias/densidad-alta/ALTA-12.txt'],\n",
       " ['densidad-alta', 12, 13, 'BT', 'instancias/densidad-alta/ALTA-13.txt'],\n",
       " ['densidad-alta', 13, 14, 'BT', 'instancias/densidad-alta/ALTA-14.txt'],\n",
       " ['densidad-alta', 14, 15, 'BT', 'instancias/densidad-alta/ALTA-15.txt'],\n",
       " ['densidad-alta', 15, 16, 'BT', 'instancias/densidad-alta/ALTA-16.txt'],\n",
       " ['densidad-alta', 16, 17, 'BT', 'instancias/densidad-alta/ALTA-17.txt'],\n",
       " ['densidad-alta', 17, 18, 'BT', 'instancias/densidad-alta/ALTA-18.txt'],\n",
       " ['densidad-alta', 18, 19, 'BT', 'instancias/densidad-alta/ALTA-19.txt'],\n",
       " ['densidad-alta', 19, 20, 'BT', 'instancias/densidad-alta/ALTA-20.txt'],\n",
       " ['densidad-alta', 20, 21, 'BT', 'instancias/densidad-alta/ALTA-21.txt'],\n",
       " ['densidad-alta', 21, 22, 'BT', 'instancias/densidad-alta/ALTA-22.txt'],\n",
       " ['densidad-alta', 22, 23, 'BT', 'instancias/densidad-alta/ALTA-23.txt'],\n",
       " ['densidad-alta', 23, 24, 'BT', 'instancias/densidad-alta/ALTA-24.txt'],\n",
       " ['densidad-alta', 24, 25, 'BT', 'instancias/densidad-alta/ALTA-25.txt'],\n",
       " ['densidad-alta', 25, 26, 'BT', 'instancias/densidad-alta/ALTA-26.txt'],\n",
       " ['densidad-alta', 26, 27, 'BT', 'instancias/densidad-alta/ALTA-27.txt'],\n",
       " ['densidad-alta', 27, 28, 'BT', 'instancias/densidad-alta/ALTA-28.txt'],\n",
       " ['densidad-alta', 28, 29, 'BT', 'instancias/densidad-alta/ALTA-29.txt'],\n",
       " ['densidad-alta', 29, 30, 'BT', 'instancias/densidad-alta/ALTA-30.txt'],\n",
       " ['densidad-alta', 30, 31, 'BT', 'instancias/densidad-alta/ALTA-31.txt'],\n",
       " ['densidad-baja', 1, 2, 'BT', 'instancias/densidad-baja/BAJA-2.txt'],\n",
       " ['densidad-baja', 2, 3, 'BT', 'instancias/densidad-baja/BAJA-3.txt'],\n",
       " ['densidad-baja', 3, 4, 'BT', 'instancias/densidad-baja/BAJA-4.txt'],\n",
       " ['densidad-baja', 4, 5, 'BT', 'instancias/densidad-baja/BAJA-5.txt'],\n",
       " ['densidad-baja', 5, 6, 'BT', 'instancias/densidad-baja/BAJA-6.txt'],\n",
       " ['densidad-baja', 6, 7, 'BT', 'instancias/densidad-baja/BAJA-7.txt'],\n",
       " ['densidad-baja', 7, 8, 'BT', 'instancias/densidad-baja/BAJA-8.txt'],\n",
       " ['densidad-baja', 8, 9, 'BT', 'instancias/densidad-baja/BAJA-9.txt'],\n",
       " ['densidad-baja', 9, 10, 'BT', 'instancias/densidad-baja/BAJA-10.txt'],\n",
       " ['densidad-baja', 10, 11, 'BT', 'instancias/densidad-baja/BAJA-11.txt'],\n",
       " ['densidad-baja', 11, 12, 'BT', 'instancias/densidad-baja/BAJA-12.txt'],\n",
       " ['densidad-baja', 12, 13, 'BT', 'instancias/densidad-baja/BAJA-13.txt'],\n",
       " ['densidad-baja', 13, 14, 'BT', 'instancias/densidad-baja/BAJA-14.txt'],\n",
       " ['densidad-baja', 14, 15, 'BT', 'instancias/densidad-baja/BAJA-15.txt'],\n",
       " ['densidad-baja', 15, 16, 'BT', 'instancias/densidad-baja/BAJA-16.txt'],\n",
       " ['densidad-baja', 16, 17, 'BT', 'instancias/densidad-baja/BAJA-17.txt'],\n",
       " ['densidad-baja', 17, 18, 'BT', 'instancias/densidad-baja/BAJA-18.txt'],\n",
       " ['densidad-baja', 18, 19, 'BT', 'instancias/densidad-baja/BAJA-19.txt'],\n",
       " ['densidad-baja', 19, 20, 'BT', 'instancias/densidad-baja/BAJA-20.txt'],\n",
       " ['densidad-baja', 20, 21, 'BT', 'instancias/densidad-baja/BAJA-21.txt'],\n",
       " ['densidad-baja', 21, 22, 'BT', 'instancias/densidad-baja/BAJA-22.txt'],\n",
       " ['densidad-baja', 22, 23, 'BT', 'instancias/densidad-baja/BAJA-23.txt'],\n",
       " ['densidad-baja', 23, 24, 'BT', 'instancias/densidad-baja/BAJA-24.txt'],\n",
       " ['densidad-baja', 24, 25, 'BT', 'instancias/densidad-baja/BAJA-25.txt'],\n",
       " ['densidad-baja', 25, 26, 'BT', 'instancias/densidad-baja/BAJA-26.txt'],\n",
       " ['densidad-baja', 26, 27, 'BT', 'instancias/densidad-baja/BAJA-27.txt'],\n",
       " ['densidad-baja', 27, 28, 'BT', 'instancias/densidad-baja/BAJA-28.txt'],\n",
       " ['densidad-baja', 28, 29, 'BT', 'instancias/densidad-baja/BAJA-29.txt'],\n",
       " ['densidad-baja', 29, 30, 'BT', 'instancias/densidad-baja/BAJA-30.txt'],\n",
       " ['densidad-baja', 30, 31, 'BT', 'instancias/densidad-baja/BAJA-31.txt']]"
      ]
     },
     "execution_count": 15,
     "metadata": {},
     "output_type": "execute_result"
    }
   ],
   "source": [
    "experimentos\n"
   ]
  },
  {
   "cell_type": "code",
   "execution_count": 16,
   "metadata": {},
   "outputs": [
    {
     "data": {
      "text/plain": [
       "120"
      ]
     },
     "execution_count": 16,
     "metadata": {},
     "output_type": "execute_result"
    }
   ],
   "source": [
    "len(experimentos)"
   ]
  },
  {
   "cell_type": "code",
   "execution_count": null,
   "metadata": {},
   "outputs": [],
   "source": []
  },
  {
   "cell_type": "code",
   "execution_count": null,
   "metadata": {},
   "outputs": [],
   "source": []
  },
  {
   "cell_type": "code",
   "execution_count": null,
   "metadata": {},
   "outputs": [],
   "source": []
  },
  {
   "cell_type": "code",
   "execution_count": null,
   "metadata": {},
   "outputs": [],
   "source": []
  },
  {
   "cell_type": "code",
   "execution_count": null,
   "metadata": {},
   "outputs": [],
   "source": []
  },
  {
   "cell_type": "markdown",
   "metadata": {},
   "source": [
    "## Ejecutar los experimentos y guardar los resultados en un archivo CSV"
   ]
  },
  {
   "cell_type": "code",
   "execution_count": 17,
   "metadata": {},
   "outputs": [
    {
     "data": {
      "text/plain": [
       "'Experimento: 120/120'"
      ]
     },
     "metadata": {},
     "output_type": "display_data"
    }
   ],
   "source": [
    "columnas = [\"dataset\", \"n\", \"R\", \"metodo\", \"tiempo\"];\n",
    "filas = [];\n",
    "numero = 1\n",
    "T = 5 # Numero de veces que se ejecuta cada experimento (para mayor fidelidad del tiempo).\n",
    "for experimento in experimentos:\n",
    "    # Voy mostrando que experimento se esta ejecutando.\n",
    "    clear_output(wait=True)\n",
    "    display('Experimento: ' + str(numero) + \"/\" + str(len(experimentos)))\n",
    "    numero += 1\n",
    "    \n",
    "    # Ejecutamos el experimento T veces y obtenemos la mediana.\n",
    "    tiempos = []\n",
    "    for i in range(0, T):\n",
    "        #print(experimento[3], experimento[4])\n",
    "        tiempos.append(correr_experimento(experimento[3], experimento[4]));\n",
    "    tiempo = np.median(tiempos);\n",
    "    filas.append([experimento[0], experimento[1], experimento[2], experimento[3], tiempo]);\n",
    "df_resultado = pd.DataFrame(filas, columns=columnas);\n",
    "df_resultado.to_csv(\"resultados/resultado.csv\", index=False, header=True);"
   ]
  },
  {
   "cell_type": "code",
   "execution_count": null,
   "metadata": {},
   "outputs": [],
   "source": []
  }
 ],
 "metadata": {
  "kernelspec": {
   "display_name": "Python 3",
   "language": "python",
   "name": "python3"
  },
  "language_info": {
   "codemirror_mode": {
    "name": "ipython",
    "version": 3
   },
   "file_extension": ".py",
   "mimetype": "text/x-python",
   "name": "python",
   "nbconvert_exporter": "python",
   "pygments_lexer": "ipython3",
   "version": "3.6.9"
  }
 },
 "nbformat": 4,
 "nbformat_minor": 4
}
