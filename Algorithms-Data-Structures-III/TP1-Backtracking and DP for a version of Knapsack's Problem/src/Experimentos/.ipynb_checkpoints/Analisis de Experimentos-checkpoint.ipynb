{
 "cells": [
  {
   "cell_type": "code",
   "execution_count": 1,
   "metadata": {},
   "outputs": [],
   "source": [
    "import numpy as np\n",
    "import pandas as pd\n",
    "import seaborn as sns\n",
    "import matplotlib.pyplot as plt"
   ]
  },
  {
   "cell_type": "code",
   "execution_count": 2,
   "metadata": {},
   "outputs": [],
   "source": [
    "def correlacion_pearson(data_frame, columna1, columna2): \n",
    "    \"\"\"Retorna el indice de correlacion de Pearson\"\"\"\n",
    "    return np.corrcoef(data_frame[columna1], data_frame[columna2])[0,1];"
   ]
  },
  {
   "cell_type": "markdown",
   "metadata": {},
   "source": [
    "# Resultados de los Experimentos con Jambo-tubos\n",
    "A continuación en en el presente cuaderno se explora todo lo relativo a la experimentación computacional.\n",
    "- En este archivo se lee el output de los experimentos y grafican los resultados."
   ]
  },
  {
   "cell_type": "markdown",
   "metadata": {},
   "source": [
    "# Datasets\n",
    "Para los experimentos se crean las siguientes familias de instancias para evaluar los distintos métodos.\n",
    "1. **densidad-alta**: Son instancias con n = 1..200 y con densidad alta, es decir, los números de S son altos en comparación con W.\n",
    "2. **densidad-baja**: Son instancias con n = 1..200 y con densidad baja, o sea, se necesitan muchos números de S para sumar W.\n",
    "3. **mejor-caso-BT**: Instancias de mejor caso para el algoritmo de BT con podas.\n",
    "4. **mal-caso-BT**: Instancias de peor caso para el algoritmo de BT con podas.\n",
    "5. **peor-caso-BT-O**: Instancias de peor caso para el algoritmo de BT con podas por optimalidad unicamente.\n",
    "6. **peor-caso-BT-F**: Instancias de peor caso para el algoritmo de BT con podas por factibilidad unicamente.\n",
    "6. **dinamica**: Instancias con n y w variando para probar el algoritmo de PD."
   ]
  },
  {
   "cell_type": "markdown",
   "metadata": {},
   "source": [
    "# Métodos\n",
    "Los métodos evaluados en este notebook son los siguientes:\n",
    "- **FB**: Fuerza Bruta.\n",
    "- **BT**: Backtracking con podas por optimalidad y factibilidad.\n",
    "- **BT-F**: Backtracking solamente con poda por factibilidad.\n",
    "- **BT-B**: Backtracking solamente con poda por optimalidad.\n",
    "- **DP**: Programación dinámica."
   ]
  },
  {
   "cell_type": "markdown",
   "metadata": {},
   "source": [
    "# Analisis de Experimentos\n",
    "Se lee el dataframe con todos los resultados."
   ]
  },
  {
   "cell_type": "code",
   "execution_count": 8,
   "metadata": {},
   "outputs": [
    {
     "data": {
      "text/html": [
       "<div>\n",
       "<style scoped>\n",
       "    .dataframe tbody tr th:only-of-type {\n",
       "        vertical-align: middle;\n",
       "    }\n",
       "\n",
       "    .dataframe tbody tr th {\n",
       "        vertical-align: top;\n",
       "    }\n",
       "\n",
       "    .dataframe thead th {\n",
       "        text-align: right;\n",
       "    }\n",
       "</style>\n",
       "<table border=\"1\" class=\"dataframe\">\n",
       "  <thead>\n",
       "    <tr style=\"text-align: right;\">\n",
       "      <th></th>\n",
       "      <th>dataset</th>\n",
       "      <th>n</th>\n",
       "      <th>R</th>\n",
       "      <th>metodo</th>\n",
       "      <th>tiempo</th>\n",
       "    </tr>\n",
       "  </thead>\n",
       "  <tbody>\n",
       "    <tr>\n",
       "      <th>0</th>\n",
       "      <td>densidad-alta</td>\n",
       "      <td>1</td>\n",
       "      <td>2</td>\n",
       "      <td>FB</td>\n",
       "      <td>0.002002</td>\n",
       "    </tr>\n",
       "    <tr>\n",
       "      <th>1</th>\n",
       "      <td>densidad-alta</td>\n",
       "      <td>2</td>\n",
       "      <td>3</td>\n",
       "      <td>FB</td>\n",
       "      <td>0.001996</td>\n",
       "    </tr>\n",
       "    <tr>\n",
       "      <th>2</th>\n",
       "      <td>densidad-alta</td>\n",
       "      <td>3</td>\n",
       "      <td>4</td>\n",
       "      <td>FB</td>\n",
       "      <td>0.003300</td>\n",
       "    </tr>\n",
       "    <tr>\n",
       "      <th>3</th>\n",
       "      <td>densidad-alta</td>\n",
       "      <td>4</td>\n",
       "      <td>5</td>\n",
       "      <td>FB</td>\n",
       "      <td>0.002084</td>\n",
       "    </tr>\n",
       "    <tr>\n",
       "      <th>4</th>\n",
       "      <td>densidad-alta</td>\n",
       "      <td>5</td>\n",
       "      <td>6</td>\n",
       "      <td>FB</td>\n",
       "      <td>0.001866</td>\n",
       "    </tr>\n",
       "  </tbody>\n",
       "</table>\n",
       "</div>"
      ],
      "text/plain": [
       "         dataset  n  R metodo    tiempo\n",
       "0  densidad-alta  1  2     FB  0.002002\n",
       "1  densidad-alta  2  3     FB  0.001996\n",
       "2  densidad-alta  3  4     FB  0.003300\n",
       "3  densidad-alta  4  5     FB  0.002084\n",
       "4  densidad-alta  5  6     FB  0.001866"
      ]
     },
     "execution_count": 8,
     "metadata": {},
     "output_type": "execute_result"
    }
   ],
   "source": [
    "df_resultados = pd.read_csv(\"resultados/resultado.csv\");\n",
    "df_resultados.head()"
   ]
  },
  {
   "cell_type": "markdown",
   "metadata": {},
   "source": [
    "## Experimento 1: Complejidad de Fuerza Bruta\n",
    "En este experimento evaluamos el método FB y BT con los datasets densidad-alta y densidad-baja. La hipótesis es que siempre va a tener un comportamiento exponencial porque tiene peor y mejor caso iguales, y que BT siempre es mejor que FB."
   ]
  },
  {
   "cell_type": "code",
   "execution_count": 9,
   "metadata": {},
   "outputs": [
    {
     "data": {
      "image/png": "[encoded data removed]",
      "text/plain": [
       "<Figure size 432x288 with 1 Axes>"
      ]
     },
     "metadata": {
      "needs_background": "light"
     },
     "output_type": "display_data"
    }
   ],
   "source": [
    "# Graficamos los tiempos de ejecución de cada dataset en función de n.\n",
    "df_complejidad_FB = df_resultados[df_resultados[\"metodo\"]==\"FB\"].copy();\n",
    "fig = sns.scatterplot(data=df_complejidad_FB, x='n', y='tiempo', hue='dataset');\n",
    "fig.set(xlabel='n', ylabel='tiempo (ms)');\n",
    "plt.savefig(\"graficos/fb-densidades.svg\");"
   ]
  },
  {
   "cell_type": "code",
   "execution_count": 10,
   "metadata": {},
   "outputs": [
    {
     "data": {
      "image/png": "[encoded data removed]",
      "text/plain": [
       "<Figure size 432x288 with 1 Axes>"
      ]
     },
     "metadata": {
      "needs_background": "light"
     },
     "output_type": "display_data"
    }
   ],
   "source": [
    "# Comparamos el dataset densidad-alta contra una función exponencial.\n",
    "df_complejidad_FB = df_resultados[(df_resultados[\"metodo\"]==\"FB\") & (df_resultados[\"dataset\"]==\"densidad-alta\")].copy();\n",
    "df_complejidad_FB[\"tiempo_esperado\"] = 2.0 ** df_complejidad_FB[\"n\"] * 0.000015; # Exponencial\n",
    "fig = sns.scatterplot(data=df_complejidad_FB, x='n', y='tiempo');\n",
    "fig = sns.lineplot(data=df_complejidad_FB, x='n', y='tiempo_esperado', color=\"orange\");\n",
    "fig.legend(labels=['O(2^n)','FB']);\n",
    "fig.set(xlabel='n', ylabel='tiempo (ms)');\n",
    "plt.savefig(\"graficos/fb-complejidad.svg\")"
   ]
  },
  {
   "cell_type": "code",
   "execution_count": 11,
   "metadata": {},
   "outputs": [
    {
     "name": "stdout",
     "output_type": "stream",
     "text": [
      "Índice de correlación de Pearson: 0.9997667413339629\n"
     ]
    },
    {
     "data": {
      "image/png": "[encoded data removed]",
      "text/plain": [
       "<Figure size 360x360 with 1 Axes>"
      ]
     },
     "metadata": {
      "needs_background": "light"
     },
     "output_type": "display_data"
    }
   ],
   "source": [
    "# Graficamos los tiempos de ejecución de la serie de instancias X1, ..., Xn vs la complejidad esperada.\n",
    "df_complejidad_FB = df_resultados[(df_resultados[\"metodo\"]==\"FB\") & (df_resultados[\"dataset\"]==\"densidad-alta\")].copy();\n",
    "df_complejidad_FB[\"complejidad\"] = 2.0 ** df_complejidad_FB[\"n\"];\n",
    "fig = sns.lmplot(data=df_complejidad_FB, x=\"tiempo\", y=\"complejidad\");\n",
    "plt.savefig(\"graficos/fb-correlacion.svg\");\n",
    "print(\"Índice de correlación de Pearson:\", correlacion_pearson(df_complejidad_FB, \"tiempo\", \"complejidad\"));"
   ]
  }
 ],
 "metadata": {
  "kernelspec": {
   "display_name": "Python 3",
   "language": "python",
   "name": "python3"
  },
  "language_info": {
   "codemirror_mode": {
    "name": "ipython",
    "version": 3
   },
   "file_extension": ".py",
   "mimetype": "text/x-python",
   "name": "python",
   "nbconvert_exporter": "python",
   "pygments_lexer": "ipython3",
   "version": "3.6.9"
  }
 },
 "nbformat": 4,
 "nbformat_minor": 4
}
