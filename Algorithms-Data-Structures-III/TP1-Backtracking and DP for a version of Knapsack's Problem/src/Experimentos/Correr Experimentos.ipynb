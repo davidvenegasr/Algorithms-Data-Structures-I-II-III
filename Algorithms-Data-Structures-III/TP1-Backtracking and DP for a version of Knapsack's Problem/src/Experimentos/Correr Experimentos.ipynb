{
 "cells": [
  {
   "cell_type": "markdown",
   "metadata": {},
   "source": [
    "# Experimentación\n",
    "En el presente cuaderno de Jupiter se corren los experimentos planteados y se escriben los resultados en archivos .CSV en la carpeta de resultados."
   ]
  },
  {
   "cell_type": "code",
   "execution_count": 108,
   "metadata": {},
   "outputs": [],
   "source": [
    "import math, subprocess\n",
    "import pandas as pd\n",
    "import numpy as np\n",
    "from IPython.display import display, clear_output"
   ]
  },
  {
   "cell_type": "markdown",
   "metadata": {},
   "source": [
    "Ahora, se leen los datasets con las instancias creadas:"
   ]
  },
  {
   "cell_type": "code",
   "execution_count": 130,
   "metadata": {},
   "outputs": [],
   "source": [
    "def leer_instancia(path_instancia):\n",
    "    with open(path_instancia, \"r\") as f:\n",
    "        return f.read();\n",
    "\n",
    "df_densidad_alta = pd.read_csv(\"instancias/densidad-alta/indice.csv\");\n",
    "df_densidad_baja = pd.read_csv(\"instancias/densidad-baja/indice.csv\");\n",
    "df_mejor_caso_bt = pd.read_csv(\"instancias/mejor-caso-BT/indice.csv\");\n",
    "df_mal_caso_bt = pd.read_csv(\"instancias/mal-caso-BT/indice.csv\");\n",
    "df_peor_caso_bt_o = pd.read_csv(\"instancias/peor-caso-BT-O/indice.csv\");\n",
    "df_peor_caso_bt_f = pd.read_csv(\"instancias/peor-caso-BT-F/indice.csv\");\n",
    "df_dinamica = pd.read_csv(\"instancias/dinamica/indice.csv\");\n",
    "df_dp_vs_bt = pd.read_csv(\"instancias/dinamica_VS_bt/indice.csv\");"
   ]
  },
  {
   "cell_type": "markdown",
   "metadata": {},
   "source": [
    "La siguiente función sirve para correr el código de cada algotimo sobe una instancia.\n",
    "- FB: Fuerza bruta\n",
    "- BT: Backtracking con ambas podas.\n",
    "- BT-F: Backtracking únicamente usando poda por factibilidad.\n",
    "- BT-O: Backtracking únicamente usando por optimalidad.\n",
    "- DP: Programación dinámica."
   ]
  },
  {
   "cell_type": "code",
   "execution_count": 31,
   "metadata": {},
   "outputs": [],
   "source": [
    "def correr_experimento(metodo, archivo_instancia):\n",
    "    # Leer archivo de la instancia.\n",
    "    instancia = leer_instancia(archivo_instancia)\n",
    "    \n",
    "    # Crear proceso para ejecutar el codigo.\n",
    "    process = subprocess.Popen([\"../jambo-tubos\", metodo], stderr=subprocess.PIPE, stdout=subprocess.PIPE, stdin=subprocess.PIPE, universal_newlines = True)\n",
    "\n",
    "    # Poner la instancia en la entrada estandar.\n",
    "    process.stdin.write(instancia)\n",
    "    process.stdin.flush()\n",
    "\n",
    "    # Correr experimento.\n",
    "    exit_code = process.wait()\n",
    "\n",
    "    # Verificar que el proceso no fallo.\n",
    "    if exit_code is not 0: raise(F\"Hubo un error en la experimentacion para el algoritmo: {algoritmo} con la instancia {archivo_instancia}.\")\n",
    "    # Leer salida de STDERR con los tiempos de ejecucion de cada metodo.\n",
    "    tiempo_de_ejecucion = float(process.stderr.read());\n",
    "    \n",
    "    process.stdin.close();\n",
    "    process.stdout.close();\n",
    "    process.stderr.close();\n",
    "    \n",
    "    return tiempo_de_ejecucion;"
   ]
  },
  {
   "cell_type": "code",
   "execution_count": 6,
   "metadata": {},
   "outputs": [],
   "source": [
    "def experimentar(experimentos, nombre):\n",
    "    columnas = [\"dataset\", \"n\", \"R\", \"metodo\", \"tiempo\"];\n",
    "    filas = [];\n",
    "    numero = 1\n",
    "    T = 5 # Numero de veces que se ejecuta cada experimento (para mayor fidelidad del tiempo).\n",
    "    for experimento in experimentos:\n",
    "        # Voy mostrando que experimento se esta ejecutando.\n",
    "        clear_output(wait=True)\n",
    "        display('Experimento: ' + str(numero) + \"/\" + str(len(experimentos)))\n",
    "        numero += 1\n",
    "\n",
    "        # Ejecutamos el experimento T veces y obtenemos la mediana.\n",
    "        tiempos = []\n",
    "        for i in range(0, T):\n",
    "            print(experimento[3], experimento[4])\n",
    "            tiempos.append(correr_experimento(experimento[3], experimento[4]));\n",
    "        tiempo = np.median(tiempos);\n",
    "        filas.append([experimento[0], experimento[1], experimento[2], experimento[3], tiempo]);\n",
    "    df_resultado = pd.DataFrame(filas, columns=columnas);\n",
    "    df_resultado.to_csv(F\"resultados/resultado_{nombre}.csv\", index=False, header=True);"
   ]
  },
  {
   "cell_type": "markdown",
   "metadata": {},
   "source": [
    "## Experimentos\n",
    "A continuación se crea una tabla con las ejecuciones y sus respectivos tiempos."
   ]
  },
  {
   "cell_type": "markdown",
   "metadata": {},
   "source": [
    "## Experimento 1:\n",
    "    Complejidad teorica de FB y comparacion con BT."
   ]
  },
  {
   "cell_type": "code",
   "execution_count": null,
   "metadata": {},
   "outputs": [],
   "source": [
    "experimentos = [];\n",
    "for n in range(1, 31):\n",
    "    fila_n = df_densidad_alta.iloc[n];\n",
    "    experimentos.append([fila_n[\"dataset\"], n, fila_n[\"R\"], \"FB\", fila_n[\"archivo\"]]);\n",
    "\n",
    "for n in range(1, 31):\n",
    "    fila_n = df_densidad_baja.iloc[n];\n",
    "    experimentos.append([fila_n[\"dataset\"], n, fila_n[\"R\"], \"FB\", fila_n[\"archivo\"]]);\n",
    "    \n",
    "for n in range(1, 31):\n",
    "    fila_n = df_densidad_alta.iloc[n];\n",
    "    experimentos.append([fila_n[\"dataset\"], n, fila_n[\"R\"], \"BT\", fila_n[\"archivo\"]]);\n",
    "\n",
    "for n in range(1, 31):\n",
    "    fila_n = df_densidad_baja.iloc[n];\n",
    "    experimentos.append([fila_n[\"dataset\"], n, fila_n[\"R\"], \"BT\", fila_n[\"archivo\"]]);\n",
    "experimentar(experimentos,\"1-FBvsBT\")\n",
    "experimentos = [];  "
   ]
  },
  {
   "cell_type": "markdown",
   "metadata": {},
   "source": [
    "## Experimento 2: \n",
    "    Mejor Caso vs Mal Caso de Backtracking"
   ]
  },
  {
   "cell_type": "code",
   "execution_count": 41,
   "metadata": {},
   "outputs": [
    {
     "output_type": "error",
     "ename": "NameError",
     "evalue": "name 'df_densidad_baja_bt' is not defined",
     "traceback": [
      "\u001b[0;31m---------------------------------------------------------------------------\u001b[0m",
      "\u001b[0;31mNameError\u001b[0m                                 Traceback (most recent call last)",
      "\u001b[0;32m<ipython-input-41-b466c95a8e24>\u001b[0m in \u001b[0;36m<module>\u001b[0;34m\u001b[0m\n\u001b[1;32m      6\u001b[0m     \u001b[0mfila_n\u001b[0m \u001b[0;34m=\u001b[0m \u001b[0mdf_mal_caso_bt\u001b[0m\u001b[0;34m.\u001b[0m\u001b[0miloc\u001b[0m\u001b[0;34m[\u001b[0m\u001b[0mn\u001b[0m\u001b[0;34m]\u001b[0m\u001b[0;34m;\u001b[0m\u001b[0;34m\u001b[0m\u001b[0;34m\u001b[0m\u001b[0m\n\u001b[1;32m      7\u001b[0m     \u001b[0mexperimentos\u001b[0m\u001b[0;34m.\u001b[0m\u001b[0mappend\u001b[0m\u001b[0;34m(\u001b[0m\u001b[0;34m[\u001b[0m\u001b[0mfila_n\u001b[0m\u001b[0;34m[\u001b[0m\u001b[0;34m\"dataset\"\u001b[0m\u001b[0;34m]\u001b[0m\u001b[0;34m,\u001b[0m \u001b[0mn\u001b[0m\u001b[0;34m,\u001b[0m \u001b[0mfila_n\u001b[0m\u001b[0;34m[\u001b[0m\u001b[0;34m\"R\"\u001b[0m\u001b[0;34m]\u001b[0m\u001b[0;34m,\u001b[0m \u001b[0;34m\"BT\"\u001b[0m\u001b[0;34m,\u001b[0m \u001b[0mfila_n\u001b[0m\u001b[0;34m[\u001b[0m\u001b[0;34m\"archivo\"\u001b[0m\u001b[0;34m]\u001b[0m\u001b[0;34m]\u001b[0m\u001b[0;34m)\u001b[0m\u001b[0;34m;\u001b[0m\u001b[0;34m\u001b[0m\u001b[0;34m\u001b[0m\u001b[0m\n\u001b[0;32m----> 8\u001b[0;31m \u001b[0;32mfor\u001b[0m \u001b[0mn\u001b[0m \u001b[0;32min\u001b[0m \u001b[0mrange\u001b[0m\u001b[0;34m(\u001b[0m\u001b[0;36m0\u001b[0m\u001b[0;34m,\u001b[0m \u001b[0mdf_densidad_baja_bt\u001b[0m\u001b[0;34m.\u001b[0m\u001b[0mshape\u001b[0m\u001b[0;34m[\u001b[0m\u001b[0;36m0\u001b[0m\u001b[0;34m]\u001b[0m\u001b[0;34m)\u001b[0m\u001b[0;34m:\u001b[0m\u001b[0;34m\u001b[0m\u001b[0;34m\u001b[0m\u001b[0m\n\u001b[0m\u001b[1;32m      9\u001b[0m     \u001b[0mfila_n\u001b[0m \u001b[0;34m=\u001b[0m \u001b[0mdf_densidad_baja_bt\u001b[0m\u001b[0;34m.\u001b[0m\u001b[0miloc\u001b[0m\u001b[0;34m[\u001b[0m\u001b[0mn\u001b[0m\u001b[0;34m]\u001b[0m\u001b[0;34m;\u001b[0m\u001b[0;34m\u001b[0m\u001b[0;34m\u001b[0m\u001b[0m\n\u001b[1;32m     10\u001b[0m     \u001b[0mexperimentos\u001b[0m\u001b[0;34m.\u001b[0m\u001b[0mappend\u001b[0m\u001b[0;34m(\u001b[0m\u001b[0;34m[\u001b[0m\u001b[0mfila_n\u001b[0m\u001b[0;34m[\u001b[0m\u001b[0;34m\"dataset\"\u001b[0m\u001b[0;34m]\u001b[0m\u001b[0;34m,\u001b[0m \u001b[0mn\u001b[0m\u001b[0;34m,\u001b[0m \u001b[0mfila_n\u001b[0m\u001b[0;34m[\u001b[0m\u001b[0;34m\"R\"\u001b[0m\u001b[0;34m]\u001b[0m\u001b[0;34m,\u001b[0m \u001b[0;34m\"BT\"\u001b[0m\u001b[0;34m,\u001b[0m \u001b[0mfila_n\u001b[0m\u001b[0;34m[\u001b[0m\u001b[0;34m\"archivo\"\u001b[0m\u001b[0;34m]\u001b[0m\u001b[0;34m]\u001b[0m\u001b[0;34m)\u001b[0m\u001b[0;34m;\u001b[0m\u001b[0;34m\u001b[0m\u001b[0;34m\u001b[0m\u001b[0m\n",
      "\u001b[0;31mNameError\u001b[0m: name 'df_densidad_baja_bt' is not defined"
     ]
    }
   ],
   "source": [
    "experimentos = []; \n",
    "for n in range(0, df_mejor_caso_bt.shape[0]):\n",
    "    fila_n = df_mejor_caso_bt.iloc[n];\n",
    "    experimentos.append([fila_n[\"dataset\"], n, fila_n[\"R\"], \"BT\", fila_n[\"archivo\"]]);\n",
    "for n in range(0, df_mal_caso_bt.shape[0]):\n",
    "    fila_n = df_mal_caso_bt.iloc[n];\n",
    "    experimentos.append([fila_n[\"dataset\"], n, fila_n[\"R\"], \"BT\", fila_n[\"archivo\"]]);\n",
    "experimentar(experimentos,\"2-BT-MejorCasoVSMalCaso\")\n",
    "experimentos = []; "
   ]
  },
  {
   "cell_type": "markdown",
   "metadata": {},
   "source": [
    "## Experimento 3\n",
    "    Peor caso ambas podas backtraking y comparacion baja densiada vs alta densidad."
   ]
  },
  {
   "cell_type": "code",
   "execution_count": 65,
   "metadata": {},
   "outputs": [
    {
     "output_type": "display_data",
     "data": {
      "text/plain": "'Experimento: 260/260'"
     },
     "metadata": {}
    }
   ],
   "source": [
    "experimentos = []; \n",
    "for n in range(0, df_peor_caso_bt_o.shape[0]):\n",
    "    fila_n = df_peor_caso_bt_o.iloc[n];\n",
    "    experimentos.append([fila_n[\"dataset\"], n, fila_n[\"R\"], \"BT-O\", fila_n[\"archivo\"]]);\n",
    "for n in range(0, df_peor_caso_bt_f.shape[0]):\n",
    "    fila_n = df_peor_caso_bt_f.iloc[n];\n",
    "    experimentos.append([fila_n[\"dataset\"], n, fila_n[\"R\"], \"BT-F\", fila_n[\"archivo\"]]);\n",
    "for n in range(0, df_densidad_baja.shape[0]):\n",
    "    fila_n = df_densidad_baja.iloc[n];\n",
    "    experimentos.append([fila_n[\"dataset\"], n, fila_n[\"R\"], \"BT\", fila_n[\"archivo\"]]);\n",
    "for n in range(0, df_densidad_alta.shape[0]):\n",
    "    fila_n = df_densidad_alta.iloc[n];\n",
    "    experimentos.append([fila_n[\"dataset\"], n, fila_n[\"R\"], \"BT\", fila_n[\"archivo\"]]);\n",
    "\n",
    "experimentar(experimentos,\"3-BT-PeorCasoPodas_Densidades\")\n",
    "experimentos = []; "
   ]
  },
  {
   "cell_type": "markdown",
   "metadata": {},
   "source": [
    "## Experimento 4\n",
    "    DP para n fijo y R variable."
   ]
  },
  {
   "cell_type": "code",
   "execution_count": 132,
   "metadata": {},
   "outputs": [
    {
     "output_type": "display_data",
     "data": {
      "text/plain": "'Experimento: 224/224'"
     },
     "metadata": {}
    }
   ],
   "source": [
    "#Correr el dataset para las instancias de dinamica con DP\n",
    "experimentos = []; \n",
    "for i in range(0, df_dinamica.shape[0]):\n",
    "    fila = df_dinamica.iloc[i];\n",
    "    experimentos.append([fila[\"dataset\"], fila[\"n\"], fila[\"R\"], \"DP\", fila[\"archivo\"]]);\n",
    "experimentar(experimentos,\"4-Dinamica\")\n",
    "experimentos = []; "
   ]
  },
  {
   "cell_type": "code",
   "execution_count": 131,
   "metadata": {
    "tags": [
     "outputPrepend"
    ]
   },
   "outputs": [
    {
     "output_type": "display_data",
     "data": {
      "text/plain": "'Experimento: 112/112'"
     },
     "metadata": {}
    }
   ],
   "source": [
    "#Correr el dataset para las instancias de dinamica con BT\n",
    "experimentos = []; \n",
    "for i in range(0, df_dp_vs_bt[(df_dp_vs_bt[\"dataset\"]==\"BT\")].shape[0]):\n",
    "    fila = df_dp_vs_bt[(df_dp_vs_bt[\"dataset\"]==\"BT\")].iloc[i];\n",
    "    experimentos.append([fila[\"dataset\"], fila[\"n\"], fila[\"R\"], \"BT\", fila[\"archivo\"]]);\n",
    "for i in range(0, df_dp_vs_bt[(df_dp_vs_bt[\"dataset\"]==\"DP\")].shape[0]):\n",
    "    fila = df_dp_vs_bt[(df_dp_vs_bt[\"dataset\"]==\"DP\")].iloc[i];\n",
    "    experimentos.append([fila[\"dataset\"], fila[\"n\"], fila[\"R\"], \"DP\", fila[\"archivo\"]]);\n",
    "experimentar(experimentos,\"4-Dinamica-BT-DP\")\n",
    "experimentos = []; "
   ]
  },
  {
   "cell_type": "code",
   "execution_count": null,
   "metadata": {},
   "outputs": [],
   "source": []
  },
  {
   "cell_type": "code",
   "execution_count": null,
   "metadata": {},
   "outputs": [],
   "source": []
  }
 ],
 "metadata": {
  "kernelspec": {
   "display_name": "Python 3.6.9 64-bit",
   "language": "python",
   "name": "python36964bit69b054adaafd4307a76034569a373b54"
  },
  "language_info": {
   "codemirror_mode": {
    "name": "ipython",
    "version": 3
   },
   "file_extension": ".py",
   "mimetype": "text/x-python",
   "name": "python",
   "nbconvert_exporter": "python",
   "pygments_lexer": "ipython3",
   "version": "3.6.9-final"
  }
 },
 "nbformat": 4,
 "nbformat_minor": 4
}