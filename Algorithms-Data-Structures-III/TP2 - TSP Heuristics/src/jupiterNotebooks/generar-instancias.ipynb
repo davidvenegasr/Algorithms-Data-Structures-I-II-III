{
 "cells": [
  {
   "cell_type": "markdown",
   "metadata": {},
   "source": [
    "# Generador de instancias\n",
    "En este notebook está el código para generar los sets de instancias que se usan para experimentar.\n",
    "- Estas instancias van a ser guardadas en la carpeta __instancias__.\n",
    "- Cada set estará en su propia carpeta y tendrá un archivo _indice.csv_ que contendrá información sobre las instancias."
   ]
  },
  {
   "cell_type": "code",
   "execution_count": 1,
   "metadata": {},
   "outputs": [],
   "source": [
    "import random, math\n",
    "import pandas as pd"
   ]
  },
  {
   "cell_type": "code",
   "execution_count": 2,
   "metadata": {},
   "outputs": [],
   "source": [
    "import os\n",
    "def file_path(relative_path):  \n",
    "    dir = os.path.dirname(os.path.abspath(\"__file__\"))\n",
    "    split_path = relative_path.split(\"/\")\n",
    "    new_path = os.path.join(dir, *split_path)\n",
    "    return new_path\n",
    "\n",
    "def save_instance(dataset, instance_name, n, W, S):\n",
    "    with open(file_path(F\"instancias/{dataset}/{instance_name}.txt\"), \"w\") as f:\n",
    "        print(n, W, file=f)\n",
    "        for s in S: \n",
    "            print(s, file=f, end=\" \")\n",
    "\n",
    "def save_index(dataset, instances):\n",
    "    with open(file_path(F\"instancias/{dataset}/instances.txt\"), \"w\") as f:\n",
    "        for instance in instances: \n",
    "            print(instance, file=f)"
   ]
  },
  {
   "cell_type": "markdown",
   "metadata": {},
   "source": [
    "## Dataset 1\n",
    "Instancias de grafos completos, con peso de aristas random."
   ]
  },
  {
   "cell_type": "code",
   "execution_count": 9,
   "metadata": {
    "scrolled": true
   },
   "outputs": [],
   "source": [
    "filas_indice = []\n",
    "\n",
    "for a in range(5, 101):\n",
    "    n = a\n",
    "    W = n * (n-1) / 2\n",
    "    S = []\n",
    "    for i in range(n):\n",
    "        for j in range(i+1, n):\n",
    "            S.append(str(i+1) + ' ' + str(j+1) + ' ' + str(((i+1)*(j+1)) % 100) + '\\n')\n",
    "            \n",
    "    save_instance(\"completos-random\", F\"KN-RAND-{n}\", n, int(W), S)\n",
    "    filas_indice.append([\"completos-random\", F\"KN-RAND-{n}\", n, W, F\"instancias/completos-random/KN-RAND-{n}.txt\"])\n",
    "    \n",
    "pd.DataFrame(filas_indice, columns=[\"dataset\", \"instancia\", \"n\", \"W\", \"archivo\"]).to_csv(\"instancias/completos-random/indice.csv\", index=False, header=True)"
   ]
  },
  {
   "cell_type": "markdown",
   "metadata": {},
   "source": [
    "## Dataset 2\n",
    "Instancia de Berlin52 variando parametros."
   ]
  },
  {
   "cell_type": "code",
   "execution_count": 4,
   "metadata": {},
   "outputs": [],
   "source": [
    "filas_indice = []\n",
    "\n",
    "#Variaciones de max iter\n",
    "for n in range(10000, 1000001, 10000):\n",
    "    filas_indice.append([\"maxiter\", \"berlin52\", n, 7542, F\"instancias/archivosDeTexto/berlin52.txt\"])\n",
    "    filas_indice.append([\"maxiter\", \"eil51\", n, 426, F\"instancias/archivosDeTexto/eil51.txt\"])\n",
    "    filas_indice.append([\"maxiter\", \"eil76\", n, 538, F\"instancias/archivosDeTexto/eil76.txt\"])\n",
    "    filas_indice.append([\"maxiter\", \"st70\", n, 675, F\"instancias/archivosDeTexto/st70.txt\"])\n",
    "    filas_indice.append([\"maxiter\", \"kroA100\", n, 21282, F\"instancias/archivosDeTexto/kroA100.txt\"])\n",
    "\n",
    "#Variaciones de max iter sin mejora\n",
    "for n in range(1000, 100001, 1000):\n",
    "    filas_indice.append([\"maxiter-sm\", \"berlin52\", n, 7542, F\"instancias/archivosDeTexto/berlin52.txt\"])\n",
    "    filas_indice.append([\"maxiter-sm\", \"eil51\", n, 426, F\"instancias/archivosDeTexto/eil51.txt\"])\n",
    "    filas_indice.append([\"maxiter-sm\", \"eil76\", n, 538, F\"instancias/archivosDeTexto/eil76.txt\"])\n",
    "    filas_indice.append([\"maxiter-sm\", \"st70\", n, 675, F\"instancias/archivosDeTexto/st70.txt\"])\n",
    "    filas_indice.append([\"maxiter-sm\", \"kroA100\", n, 21282, F\"instancias/archivosDeTexto/kroA100.txt\"])\n",
    "  # JONA  filas_indice.append([lo mismo pero con las otras instancias])\n",
    "\n",
    "#Variaciones de max tiempo\n",
    "for n in range(1000, 31000, 1000):\n",
    "    filas_indice.append([\"maxtime\", \"berlin52\", n, 7542, F\"instancias/archivosDeTexto/berlin52.txt\"])\n",
    "    filas_indice.append([\"maxtime\", \"eil51\", n, 426, F\"instancias/archivosDeTexto/eil51.txt\"])\n",
    "    filas_indice.append([\"maxtime\", \"eil76\", n, 538, F\"instancias/archivosDeTexto/eil76.txt\"])\n",
    "    filas_indice.append([\"maxtime\", \"st70\", n, 675, F\"instancias/archivosDeTexto/st70.txt\"])\n",
    "    filas_indice.append([\"maxtime\", \"kroA100\", n, 21282, F\"instancias/archivosDeTexto/kroA100.txt\"])\n",
    "   #JONA  filas_indice.append([lo mismo pero con las otras instancias])\n",
    "\n",
    "#Variaciones de max size\n",
    "for n in range(1, 51):\n",
    "    filas_indice.append([\"memsize\", \"berlin52\", n, 7542, F\"instancias/archivosDeTexto/berlin52.txt\"])\n",
    "    filas_indice.append([\"memsize\", \"eil51\", n, 426, F\"instancias/archivosDeTexto/eil51.txt\"])\n",
    "    filas_indice.append([\"memsize\", \"eil76\", n, 538, F\"instancias/archivosDeTexto/eil76.txt\"])\n",
    "    filas_indice.append([\"memsize\", \"st70\", n, 675, F\"instancias/archivosDeTexto/st70.txt\"])\n",
    "    filas_indice.append([\"memsize\", \"kroA100\", n, 21282, F\"instancias/archivosDeTexto/kroA100.txt\"])\n",
    "    #filas_indice.append([lo mismo pero con las otras instancias])\n",
    "    \n",
    "#Variaciones de porcentaje de vecindad\n",
    "for n in range(1, 6):\n",
    "    filas_indice.append([\"porc\", \"berlin52\", n/10, 7542, F\"instancias/archivosDeTexto/berlin52.txt\"])\n",
    "    filas_indice.append([\"porc\", \"eil51\", n/10, 426, F\"instancias/archivosDeTexto/eil51.txt\"])\n",
    "    filas_indice.append([\"porc\", \"eil76\", n/10, 538, F\"instancias/archivosDeTexto/eil76.txt\"])\n",
    "    filas_indice.append([\"porc\", \"st70\", n/10, 675, F\"instancias/archivosDeTexto/st70.txt\"])\n",
    "    filas_indice.append([\"porc\", \"kroA100\", n/10, 21282, F\"instancias/archivosDeTexto/kroA100.txt\"])\n",
    "    #filas_indice.append([lo mismo pero con las otras instancias])\n",
    "    \n",
    "pd.DataFrame(filas_indice, columns=[\"dataset\", \"instancia\", \"n\", \"W\", \"archivo\"]).to_csv(\"instancias/parametros/indice.csv\", index=False, header=True)\n",
    "#cambiar nombre de carpeta"
   ]
  },
  {
   "cell_type": "code",
   "execution_count": 3,
   "metadata": {},
   "outputs": [],
   "source": [
    "#VERSION CORTA PARA TEST\n",
    "filas_indice = []\n",
    "\n",
    "#Variaciones de max iter\n",
    "for n in range(100000, 1000001, 100000):\n",
    "    filas_indice.append([\"maxiter\", \"berlin52\", n, 7542, F\"instancias/archivosDeTexto/berlin52.txt\"])\n",
    "    filas_indice.append([\"maxiter\", \"eil51\", n, 426, F\"instancias/archivosDeTexto/eil51.txt\"])\n",
    "    filas_indice.append([\"maxiter\", \"eil76\", n, 538, F\"instancias/archivosDeTexto/eil76.txt\"])\n",
    "    filas_indice.append([\"maxiter\", \"st70\", n, 675, F\"instancias/archivosDeTexto/st70.txt\"])\n",
    "    filas_indice.append([\"maxiter\", \"kroA100\", n, 21282, F\"instancias/archivosDeTexto/kroA100.txt\"])\n",
    "\n",
    "#Variaciones de max iter sin mejora\n",
    "for n in range(10000, 100001, 10000):\n",
    "    filas_indice.append([\"maxiter-sm\", \"berlin52\", n, 7542, F\"instancias/archivosDeTexto/berlin52.txt\"])\n",
    "    filas_indice.append([\"maxiter-sm\", \"eil51\", n, 426, F\"instancias/archivosDeTexto/eil51.txt\"])\n",
    "    filas_indice.append([\"maxiter-sm\", \"eil76\", n, 538, F\"instancias/archivosDeTexto/eil76.txt\"])\n",
    "    filas_indice.append([\"maxiter-sm\", \"st70\", n, 675, F\"instancias/archivosDeTexto/st70.txt\"])\n",
    "    filas_indice.append([\"maxiter-sm\", \"kroA100\", n, 21282, F\"instancias/archivosDeTexto/kroA100.txt\"])\n",
    "  # JONA  filas_indice.append([lo mismo pero con las otras instancias])\n",
    "\n",
    "#Variaciones de max tiempo\n",
    "for n in range(10000, 31000, 10000):\n",
    "    filas_indice.append([\"maxtime\", \"berlin52\", n, 7542, F\"instancias/archivosDeTexto/berlin52.txt\"])\n",
    "    filas_indice.append([\"maxtime\", \"eil51\", n, 426, F\"instancias/archivosDeTexto/eil51.txt\"])\n",
    "    filas_indice.append([\"maxtime\", \"eil76\", n, 538, F\"instancias/archivosDeTexto/eil76.txt\"])\n",
    "    filas_indice.append([\"maxtime\", \"st70\", n, 675, F\"instancias/archivosDeTexto/st70.txt\"])\n",
    "    filas_indice.append([\"maxtime\", \"kroA100\", n, 21282, F\"instancias/archivosDeTexto/kroA100.txt\"])\n",
    "   #JONA  filas_indice.append([lo mismo pero con las otras instancias])\n",
    "\n",
    "#Variaciones de max size\n",
    "for n in range(10, 51, 10):\n",
    "    filas_indice.append([\"memsize\", \"berlin52\", n, 7542, F\"instancias/archivosDeTexto/berlin52.txt\"])\n",
    "    filas_indice.append([\"memsize\", \"eil51\", n, 426, F\"instancias/archivosDeTexto/eil51.txt\"])\n",
    "    filas_indice.append([\"memsize\", \"eil76\", n, 538, F\"instancias/archivosDeTexto/eil76.txt\"])\n",
    "    filas_indice.append([\"memsize\", \"st70\", n, 675, F\"instancias/archivosDeTexto/st70.txt\"])\n",
    "    filas_indice.append([\"memsize\", \"kroA100\", n, 21282, F\"instancias/archivosDeTexto/kroA100.txt\"])\n",
    "    #filas_indice.append([lo mismo pero con las otras instancias])\n",
    "    \n",
    "#Variaciones de porcentaje de vecindad\n",
    "for n in range(1, 6):\n",
    "    filas_indice.append([\"porc\", \"berlin52\", n/10, 7542, F\"instancias/archivosDeTexto/berlin52.txt\"])\n",
    "    filas_indice.append([\"porc\", \"eil51\", n/10, 426, F\"instancias/archivosDeTexto/eil51.txt\"])\n",
    "    filas_indice.append([\"porc\", \"eil76\", n/10, 538, F\"instancias/archivosDeTexto/eil76.txt\"])\n",
    "    filas_indice.append([\"porc\", \"st70\", n/10, 675, F\"instancias/archivosDeTexto/st70.txt\"])\n",
    "    filas_indice.append([\"porc\", \"kroA100\", n/10, 21282, F\"instancias/archivosDeTexto/kroA100.txt\"])\n",
    "    #filas_indice.append([lo mismo pero con las otras instancias])\n",
    "    \n",
    "pd.DataFrame(filas_indice, columns=[\"dataset\", \"instancia\", \"n\", \"W\", \"archivo\"]).to_csv(\"instancias/parametros/indice.csv\", index=False, header=True)\n",
    "#cambiar nombre de carpeta"
   ]
  },
  {
   "cell_type": "markdown",
   "metadata": {},
   "source": [
    "## Dataset 3: comparación de heurísticas\n",
    "Usando las 5 instancias conocidas, comparamos las 3 heurísticas todas contra todas."
   ]
  },
  {
   "cell_type": "code",
   "execution_count": 5,
   "metadata": {},
   "outputs": [],
   "source": [
    "filas_indice = []\n",
    "\n",
    "filas_indice.append([\"berlin52\", \"berlin52\", 52, 7542, F\"instancias/comparacion-heuristicas/berlin52.txt\"])\n",
    "filas_indice.append([\"eil51\", \"eil51\", 51, 426, F\"instancias/comparacion-heuristicas/eil51.txt\"])\n",
    "filas_indice.append([\"eil76\", \"eil76\", 76, 538, F\"instancias/comparacion-heuristicas/eil76.txt\"])\n",
    "filas_indice.append([\"kroA100\", \"kroA100\", 100, 21282, F\"instancias/comparacion-heuristicas/kroA100.txt\"])\n",
    "filas_indice.append([\"st70\", \"st70\", 70, 675, F\"instancias/comparacion-heuristicas/st70.txt\"])\n",
    "    \n",
    "pd.DataFrame(filas_indice, columns=[\"dataset\", \"instancia\", \"n\", \"W\", \"archivo\"]).to_csv(\"instancias/comparacion-heuristicas/indice.csv\", index=False, header=True)"
   ]
  }
 ],
 "metadata": {
  "kernelspec": {
   "display_name": "Python 3",
   "language": "python",
   "name": "python3"
  },
  "language_info": {
   "codemirror_mode": {
    "name": "ipython",
    "version": 3
   },
   "file_extension": ".py",
   "mimetype": "text/x-python",
   "name": "python",
   "nbconvert_exporter": "python",
   "pygments_lexer": "ipython3",
   "version": "3.8.2"
  }
 },
 "nbformat": 4,
 "nbformat_minor": 4
}
